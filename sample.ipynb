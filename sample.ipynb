{
 "cells": [
  {
   "cell_type": "code",
   "id": "initial_id",
   "metadata": {
    "collapsed": true,
    "ExecuteTime": {
     "end_time": "2024-11-23T00:10:06.435755Z",
     "start_time": "2024-11-23T00:10:04.545426Z"
    }
   },
   "source": [
    "import torch\n",
    "import os\n",
    "from tqdm import tqdm\n",
    "\n",
    "from src.utils import save_images\n",
    "from src.model.unet import UNet"
   ],
   "outputs": [],
   "execution_count": 1
  },
  {
   "metadata": {
    "ExecuteTime": {
     "end_time": "2024-11-23T00:10:07.895722Z",
     "start_time": "2024-11-23T00:10:07.875875Z"
    }
   },
   "cell_type": "code",
   "source": "device = torch.device(\"cuda\" if torch.cuda.is_available() else \"cpu\")",
   "id": "301c5625bff7fff2",
   "outputs": [],
   "execution_count": 2
  },
  {
   "metadata": {
    "ExecuteTime": {
     "end_time": "2024-11-23T00:10:09.791168Z",
     "start_time": "2024-11-23T00:10:09.232094Z"
    }
   },
   "cell_type": "code",
   "source": [
    "model = UNet().to(device)\n",
    "model.load_state_dict(torch.load(\"checkpoints/DDPM_Uncondtional_cat/ckpt_395.pt\", weights_only=True))"
   ],
   "id": "8a45117345d9ad4c",
   "outputs": [
    {
     "data": {
      "text/plain": [
       "<All keys matched successfully>"
      ]
     },
     "execution_count": 3,
     "metadata": {},
     "output_type": "execute_result"
    }
   ],
   "execution_count": 3
  },
  {
   "metadata": {
    "ExecuteTime": {
     "end_time": "2024-11-23T00:13:40.865187Z",
     "start_time": "2024-11-23T00:13:40.858636Z"
    }
   },
   "cell_type": "code",
   "source": [
    "def sample(model, img_size, noise_steps, alpha, alpha_hat, beta, name_dir):\n",
    "    model.eval()\n",
    "    os.makedirs(os.path.join(\"results\", name_dir), exist_ok=True)\n",
    "\n",
    "    with torch.no_grad():\n",
    "        x = torch.randn((1, 3, img_size, img_size)).to(device)\n",
    "        for i in tqdm(reversed(range(1, noise_steps)), position=0):\n",
    "            t = (torch.ones(1) * i).long().to(device)\n",
    "            # Debug print to ensure t is within valid range\n",
    "            print(f\"t: {t.item()}, max index: {alpha.size(0)-1}\")\n",
    "\n",
    "            if t.item() >= alpha.size(0):\n",
    "                print(\"Index out of range. Breaking.\")\n",
    "                break\n",
    "            \n",
    "            predicted_noise = model(x, t)\n",
    "            alpha_val = alpha[t][:, None, None, None]\n",
    "            alpha_hat_val = alpha_hat[t][:, None, None, None]\n",
    "            beta_val = beta[t][:, None, None, None]\n",
    "\n",
    "            if i > 1:\n",
    "                noise = torch.randn_like(x)\n",
    "            else:\n",
    "                noise = torch.zeros_like(x)\n",
    "\n",
    "            x = 1 / torch.sqrt(alpha_val) * (x - ((1 - alpha_val) / (torch.sqrt(1 - alpha_hat_val))) * predicted_noise) + torch.sqrt(beta_val) * noise\n",
    "    return x\n",
    "            \n",
    "            #img_to_save = x.clamp(-1, 1) # Keep this tensor in float32 for the model processing\n",
    "            #save_image = (img_to_save * 127.5 + 127.5).type(torch.uint8)  # Convert to byte only for saving\n",
    "            #save_images(save_image, os.path.join(\"results\", name_dir, f\"sample_{i}.png\"))"
   ],
   "id": "c2ee7aa031085906",
   "outputs": [],
   "execution_count": 6
  },
  {
   "metadata": {
    "ExecuteTime": {
     "end_time": "2024-11-23T00:13:46.226060Z",
     "start_time": "2024-11-23T00:13:46.208921Z"
    }
   },
   "cell_type": "code",
   "source": [
    "beta = torch.linspace(1e-4, 0.02, 1000).to(device).float()\n",
    "alpha = 1 - beta\n",
    "alpha_hat = torch.cumprod(alpha, dim=0).float()\n",
    "\n",
    "\n",
    "sample(model=model,\n",
    "       img_size=64,\n",
    "       noise_steps=1000,\n",
    "       alpha=alpha,\n",
    "       alpha_hat=alpha_hat,\n",
    "       beta=beta,\n",
    "       name_dir=\"Cat_Step\")"
   ],
   "id": "87cc5ea0ebc5f220",
   "outputs": [
    {
     "ename": "RuntimeError",
     "evalue": "CUDA error: device-side assert triggered\nCUDA kernel errors might be asynchronously reported at some other API call, so the stacktrace below might be incorrect.\nFor debugging consider passing CUDA_LAUNCH_BLOCKING=1\nCompile with `TORCH_USE_CUDA_DSA` to enable device-side assertions.\n",
     "output_type": "error",
     "traceback": [
      "\u001B[0;31m---------------------------------------------------------------------------\u001B[0m",
      "\u001B[0;31mRuntimeError\u001B[0m                              Traceback (most recent call last)",
      "Cell \u001B[0;32mIn[7], line 1\u001B[0m\n\u001B[0;32m----> 1\u001B[0m beta \u001B[38;5;241m=\u001B[39m \u001B[43mtorch\u001B[49m\u001B[38;5;241;43m.\u001B[39;49m\u001B[43mlinspace\u001B[49m\u001B[43m(\u001B[49m\u001B[38;5;241;43m1e-4\u001B[39;49m\u001B[43m,\u001B[49m\u001B[43m \u001B[49m\u001B[38;5;241;43m0.02\u001B[39;49m\u001B[43m,\u001B[49m\u001B[43m \u001B[49m\u001B[38;5;241;43m1000\u001B[39;49m\u001B[43m)\u001B[49m\u001B[38;5;241;43m.\u001B[39;49m\u001B[43mto\u001B[49m\u001B[43m(\u001B[49m\u001B[43mdevice\u001B[49m\u001B[43m)\u001B[49m\u001B[38;5;241m.\u001B[39mfloat()\n\u001B[1;32m      2\u001B[0m alpha \u001B[38;5;241m=\u001B[39m \u001B[38;5;241m1\u001B[39m \u001B[38;5;241m-\u001B[39m beta\n\u001B[1;32m      3\u001B[0m alpha_hat \u001B[38;5;241m=\u001B[39m torch\u001B[38;5;241m.\u001B[39mcumprod(alpha, dim\u001B[38;5;241m=\u001B[39m\u001B[38;5;241m0\u001B[39m)\u001B[38;5;241m.\u001B[39mfloat()\n",
      "\u001B[0;31mRuntimeError\u001B[0m: CUDA error: device-side assert triggered\nCUDA kernel errors might be asynchronously reported at some other API call, so the stacktrace below might be incorrect.\nFor debugging consider passing CUDA_LAUNCH_BLOCKING=1\nCompile with `TORCH_USE_CUDA_DSA` to enable device-side assertions.\n"
     ]
    }
   ],
   "execution_count": 7
  }
 ],
 "metadata": {
  "kernelspec": {
   "display_name": "Python 3",
   "language": "python",
   "name": "python3"
  },
  "language_info": {
   "codemirror_mode": {
    "name": "ipython",
    "version": 2
   },
   "file_extension": ".py",
   "mimetype": "text/x-python",
   "name": "python",
   "nbconvert_exporter": "python",
   "pygments_lexer": "ipython2",
   "version": "2.7.6"
  }
 },
 "nbformat": 4,
 "nbformat_minor": 5
}
